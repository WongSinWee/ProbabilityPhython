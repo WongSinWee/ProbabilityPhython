{
 "cells": [
  {
   "cell_type": "markdown",
   "metadata": {},
   "source": [
    "# Solving Probability Problem With Computation Power"
   ]
  },
  {
   "cell_type": "markdown",
   "metadata": {},
   "source": [
    "# Problem\n",
    "\n",
    "Implement a simulation that can assist to study the [birthday paradox](https://en.wikipedia.org/wiki/Birthday_problem). You may follow the link to learn more about it, but for this problem there changes:\n",
    "\n",
    "Assume that birthdays of individuals are uniformly distributed over the 365 days in a year. Further, assume that the year is not a leap year, and that it begins on a Monday. We define a calendar week to be the seven days from Monday to Sunday. \n",
    "\n",
    "Suppose there are $n$ people in a room. How large does have $n$ have to be in order for the probability that there are at least 3 people with their birthdays within the same calendar week to be more than 0.5? You should include a visualisation in your answer."
   ]
  },
  {
   "cell_type": "markdown",
   "metadata": {},
   "source": [
    "### Answer:\n",
    "It required at least 26 person in a room to get a probability of 0.5 for at least 3 people in the room with their birthdays within the same calender week.\n",
    "Please refer to the Question 2 working step below for the visualisation of the probability vs n people in the room."
   ]
  },
  {
   "cell_type": "markdown",
   "metadata": {},
   "source": [
    "# Solution Working Steps\n"
   ]
  },
  {
   "cell_type": "code",
   "execution_count": 2,
   "metadata": {},
   "outputs": [],
   "source": [
    "#import packages\n",
    "from random import randint\n",
    "import numpy as np\n",
    "from numpy import random\n",
    "from numpy.random import default_rng\n",
    "import matplotlib.pyplot as plt\n",
    "from datetime import datetime, timedelta\n",
    "import statistics as st\n",
    "%matplotlib inline\n",
    "#np.random.seed(5003)\n",
    "rng = np.random.default_rng(5003)"
   ]
  },
  {
   "cell_type": "markdown",
   "metadata": {},
   "source": [
    "Given birth day (1 to 365) start from 1st Jan is Monday and non leap year. For example year 1st Jan 2018 is Monday and 31st Dec 2018 is Monday of Week 1 of year 2019. Therefore, there is only 52 full weeks for year 2018. The calculation is safe to equal random integer of 52 week."
   ]
  },
  {
   "cell_type": "code",
   "execution_count": 4,
   "metadata": {},
   "outputs": [
    {
     "name": "stdout",
     "output_type": "stream",
     "text": [
      "2018-12-31 00:00:00\n",
      "Week No.= 1 is a Weekday 1 of Year 2019\n"
     ]
    }
   ],
   "source": [
    "#by iso8601, the 31 Dec 2018 is Week 1 of 2019\n",
    "first_day_of_year = datetime(2018, 1, 1)\n",
    "birthdays=datetime(2018, 12, 31)\n",
    "print(birthdays)\n",
    "print(\"Week No.=\",birthdays.isocalendar()[1],\"is a Weekday\",birthdays.isoweekday(), 'of Year', birthdays.isocalendar()[0] )"
   ]
  },
  {
   "cell_type": "code",
   "execution_count": 3,
   "metadata": {},
   "outputs": [],
   "source": [
    "# Not required to allocate random day to week. Create a function for the random birth week of n_people, \n",
    "# def random_birth_week(n_people):\n",
    "    #first_jan_monday = datetime(2018, 1, 1)\n",
    "    #return [(first_jan_monday + timedelta(days=randint(0, 365))).isocalendar()[1] for _ in range(n_people)]"
   ]
  },
  {
   "cell_type": "code",
   "execution_count": 5,
   "metadata": {},
   "outputs": [
    {
     "name": "stdout",
     "output_type": "stream",
     "text": [
      "1 52 27.0 26.554\n",
      "1 52 26.0 26.36175\n",
      "1 52 26.0 26.36517\n"
     ]
    },
    {
     "data": {
      "image/png": "[encoded data removed]",
      "text/plain": [
       "<Figure size 1080x288 with 3 Axes>"
      ]
     },
     "metadata": {
      "needs_background": "light"
     },
     "output_type": "display_data"
    }
   ],
   "source": [
    "# To check a good number of people in sampling for a good uniform distribution over the random 52 full-weeks\n",
    "# 100000 total people(loops) is better to represent the uniform distribution\n",
    "# Use of 20000 runs shall be balance for low value of n_people and high value n_people in room\n",
    "\n",
    "xpos=131\n",
    "for i in (1000, 20000, 100000):\n",
    "    weeks=rng.choice(np.arange(1,53),i).tolist()\n",
    "    print(min(weeks), max(weeks), st.median(weeks), st.mean(weeks))\n",
    "    plt.figure(1, figsize=(15, 4))\n",
    "    plt.subplot(xpos)\n",
    "    plt.hlines((1/52), 0, 54, colors='r',linestyles='dotted')\n",
    "    plt.hist(weeks, density=True, bins=52)\n",
    "    plt.title(f'n_people={i}')\n",
    "    plt.xlabel('Week Number ');\n",
    "    xpos+=1"
   ]
  },
  {
   "cell_type": "code",
   "execution_count": 6,
   "metadata": {},
   "outputs": [],
   "source": [
    "# Calculate the probality of n_people with same calender week\n",
    "# Considering there is a need more than n_people to get the probability of 0.5,\n",
    "# if n_poeple > 10, the total people of birth weeek is (n_people * runs)>200000 samples\n",
    "\n",
    "def probability(n_people, runs=20000):\n",
    "    triple_found = 0\n",
    "    for _ in range(runs):\n",
    "        weeks=rng.choice(np.arange(1,53),n_people).tolist()\n",
    "        triple = set(x for x in weeks if weeks.count(x) > 2)\n",
    "        if len(triple) >= 1:\n",
    "            triple_found += 1\n",
    "\n",
    "    return triple_found/runs #probability"
   ]
  },
  {
   "cell_type": "code",
   "execution_count": 7,
   "metadata": {},
   "outputs": [
    {
     "name": "stdout",
     "output_type": "stream",
     "text": [
      "0.0395\n",
      "Wall time: 357 ms\n",
      "0.4958\n",
      "Wall time: 482 ms\n",
      "0.995\n",
      "Wall time: 891 ms\n"
     ]
    }
   ],
   "source": [
    "# check the runs' time and the possible probability\n",
    "%time print(probability(10))\n",
    "%time print(probability(25))\n",
    "%time print(probability(50))"
   ]
  },
  {
   "cell_type": "code",
   "execution_count": 8,
   "metadata": {},
   "outputs": [
    {
     "name": "stdout",
     "output_type": "stream",
     "text": [
      "26 random people are needed in a room,to obtain the probability at least 3 people with their birthdays within the same calendar week to be more than 0.5.\n"
     ]
    }
   ],
   "source": [
    "# To loop the number of people from 3 to 100 in a room needed to obtain probability of 0.5\n",
    "# Note: This will take 15 to 20 seconds\n",
    "for n_people1 in range(3,100):\n",
    "    proba=probability(n_people1)\n",
    "    if proba>0.5:   #if the probablity more than 0.5 stop and print n_people\n",
    "        break\n",
    "print(f'{n_people1} random people are needed in a room,to obtain the probability at least 3 people with their birthdays within the same calendar week to be more than 0.5.')"
   ]
  },
  {
   "cell_type": "code",
   "execution_count": 9,
   "metadata": {},
   "outputs": [
    {
     "name": "stdout",
     "output_type": "stream",
     "text": [
      "3 people in a room, the probability is 0.000\n",
      "4 people in a room, the probability is 0.002\n",
      "5 people in a room, the probability is 0.004\n",
      "6 people in a room, the probability is 0.007\n",
      "7 people in a room, the probability is 0.012\n",
      "8 people in a room, the probability is 0.019\n",
      "9 people in a room, the probability is 0.028\n",
      "10 people in a room, the probability is 0.040\n",
      "11 people in a room, the probability is 0.052\n",
      "12 people in a room, the probability is 0.067\n",
      "13 people in a room, the probability is 0.087\n",
      "14 people in a room, the probability is 0.112\n",
      "15 people in a room, the probability is 0.136\n",
      "16 people in a room, the probability is 0.164\n",
      "17 people in a room, the probability is 0.195\n",
      "18 people in a room, the probability is 0.219\n",
      "19 people in a room, the probability is 0.262\n",
      "20 people in a room, the probability is 0.297\n",
      "21 people in a room, the probability is 0.327\n",
      "22 people in a room, the probability is 0.372\n",
      "23 people in a room, the probability is 0.409\n",
      "24 people in a room, the probability is 0.454\n",
      "25 people in a room, the probability is 0.500\n",
      "26 people in a room, the probability is 0.531\n",
      "27 people in a room, the probability is 0.568\n",
      "28 people in a room, the probability is 0.613\n",
      "29 people in a room, the probability is 0.651\n",
      "30 people in a room, the probability is 0.690\n",
      "31 people in a room, the probability is 0.721\n",
      "32 people in a room, the probability is 0.757\n",
      "33 people in a room, the probability is 0.791\n",
      "34 people in a room, the probability is 0.815\n",
      "35 people in a room, the probability is 0.847\n",
      "36 people in a room, the probability is 0.868\n",
      "37 people in a room, the probability is 0.887\n",
      "38 people in a room, the probability is 0.904\n",
      "39 people in a room, the probability is 0.923\n",
      "40 people in a room, the probability is 0.936\n",
      "41 people in a room, the probability is 0.948\n",
      "42 people in a room, the probability is 0.957\n",
      "43 people in a room, the probability is 0.967\n",
      "44 people in a room, the probability is 0.974\n",
      "45 people in a room, the probability is 0.980\n",
      "46 people in a room, the probability is 0.985\n",
      "47 people in a room, the probability is 0.989\n",
      "48 people in a room, the probability is 0.991\n",
      "49 people in a room, the probability is 0.993\n",
      "50 people in a room, the probability is 0.995\n",
      "51 people in a room, the probability is 0.996\n",
      "52 people in a room, the probability is 0.997\n",
      "53 people in a room, the probability is 0.998\n",
      "54 people in a room, the probability is 0.999\n",
      "55 people in a room, the probability is 0.999\n",
      "56 people in a room, the probability is 0.999\n",
      "57 people in a room, the probability is 1.000\n",
      "58 people in a room, the probability is 1.000\n",
      "59 people in a room, the probability is 1.000\n",
      "60 people in a room, the probability is 1.000\n",
      "61 people in a room, the probability is 1.000\n"
     ]
    }
   ],
   "source": [
    "#Generate a data of n_people vs probality to plot a line chart\n",
    "probability_run = []\n",
    "number_people=[]\n",
    "for n_people in range(3,100):\n",
    "    proba=probability(n_people)\n",
    "    probability_run.append(proba)\n",
    "    number_people.append(n_people)\n",
    "    print(f'{n_people} people in a room, the probability is {proba:0.3f}')\n",
    "    if (len(probability_run)>50):\n",
    "        if (proba-probability_run[-3])<0.00001:\n",
    "            break\n",
    "    \n",
    "#print(probability_run)\n",
    "#print(number_people)"
   ]
  },
  {
   "cell_type": "code",
   "execution_count": 10,
   "metadata": {},
   "outputs": [
    {
     "data": {
      "image/png": "[encoded data removed]",
      "text/plain": [
       "<Figure size 648x360 with 1 Axes>"
      ]
     },
     "metadata": {
      "needs_background": "light"
     },
     "output_type": "display_data"
    }
   ],
   "source": [
    "# Graph for visulisation of 'Probability of at least 3 have same birth week' to 'number of people in a room'\n",
    "plt.figure(figsize=(9, 5))\n",
    "ax=plt.plot(number_people, probability_run,'go-',markersize=3)\n",
    "plt.grid()\n",
    "plt.xticks(np.arange(0, max(number_people)+2, 2.0))\n",
    "plt.yticks(np.arange(0, 1.1, 0.1))\n",
    "plt.hlines(0.5, 0, number_people[-1], colors='b',linestyles='dotted')\n",
    "plt.vlines(n_people1, 0, probability_run[-5], colors='b',linestyles='dotted')\n",
    "plt.xlabel('Number of Random Persons in a Room')\n",
    "plt.ylabel('Probability')\n",
    "plt.title('Probability of At Least 3 People With Birthday In Same Calender Week')\n",
    "plt.xlim(left=0), plt.ylim(bottom=0);"
   ]
  },
  {
   "cell_type": "code",
   "execution_count": null,
   "metadata": {},
   "outputs": [],
   "source": []
  }
 ],
 "metadata": {
  "kernelspec": {
   "display_name": "Python 3",
   "language": "python",
   "name": "python3"
  },
  "language_info": {
   "codemirror_mode": {
    "name": "ipython",
    "version": 3
   },
   "file_extension": ".py",
   "mimetype": "text/x-python",
   "name": "python",
   "nbconvert_exporter": "python",
   "pygments_lexer": "ipython3",
   "version": "3.8.3"
  }
 },
 "nbformat": 4,
 "nbformat_minor": 4
}
